{
 "cells": [
  {
   "cell_type": "code",
   "execution_count": 35,
   "metadata": {},
   "outputs": [],
   "source": [
    "# Analysis - What are the main causes of Flight Delays\n",
    "\n",
    "# Import Dependancies\n",
    "import pandas as pd\n",
    "import numpy as np\n",
    "import matplotlib.pyplot as plt\n",
    "import seaborn as sns\n",
    "plt.style.use('ggplot')\n",
    "from pathlib import Path"
   ]
  },
  {
   "cell_type": "code",
   "execution_count": 36,
   "metadata": {},
   "outputs": [
    {
     "data": {
      "text/plain": [
       "(2359976, 29)"
      ]
     },
     "execution_count": 36,
     "metadata": {},
     "output_type": "execute_result"
    }
   ],
   "source": [
    "# Import and read in csv file\n",
    "file = Path(\"data.csv\")\n",
    "df = pd.read_csv(file)\n",
    "df.shape\n"
   ]
  },
  {
   "cell_type": "code",
   "execution_count": 37,
   "metadata": {},
   "outputs": [
    {
     "data": {
      "text/html": [
       "<div>\n",
       "<style scoped>\n",
       "    .dataframe tbody tr th:only-of-type {\n",
       "        vertical-align: middle;\n",
       "    }\n",
       "\n",
       "    .dataframe tbody tr th {\n",
       "        vertical-align: top;\n",
       "    }\n",
       "\n",
       "    .dataframe thead th {\n",
       "        text-align: right;\n",
       "    }\n",
       "</style>\n",
       "<table border=\"1\" class=\"dataframe\">\n",
       "  <thead>\n",
       "    <tr style=\"text-align: right;\">\n",
       "      <th></th>\n",
       "      <th>Unnamed: 0</th>\n",
       "      <th>ORIGIN_AIRPORT_ID</th>\n",
       "      <th>Description</th>\n",
       "      <th>Code.y</th>\n",
       "      <th>Unnamed: 0_x</th>\n",
       "      <th>OP_UNIQUE_CARRIER</th>\n",
       "      <th>airline_name</th>\n",
       "      <th>Unnamed: 0_y</th>\n",
       "      <th>YEAR</th>\n",
       "      <th>MONTH</th>\n",
       "      <th>...</th>\n",
       "      <th>ARR_DEL15</th>\n",
       "      <th>ARR_DELAY_GROUP</th>\n",
       "      <th>CANCELLED</th>\n",
       "      <th>CANCELLATION_CODE</th>\n",
       "      <th>DIVERTED</th>\n",
       "      <th>CARRIER_DELAY</th>\n",
       "      <th>WEATHER_DELAY</th>\n",
       "      <th>NAS_DELAY</th>\n",
       "      <th>SECURITY_DELAY</th>\n",
       "      <th>LATE_AIRCRAFT_DELAY</th>\n",
       "    </tr>\n",
       "  </thead>\n",
       "  <tbody>\n",
       "    <tr>\n",
       "      <th>0</th>\n",
       "      <td>0</td>\n",
       "      <td>10140.0</td>\n",
       "      <td>Albuquerque, NM: Albuquerque International Sun...</td>\n",
       "      <td>ABQ</td>\n",
       "      <td>2</td>\n",
       "      <td>AS</td>\n",
       "      <td>Alaska</td>\n",
       "      <td>236754</td>\n",
       "      <td>2018</td>\n",
       "      <td>1</td>\n",
       "      <td>...</td>\n",
       "      <td>0.0</td>\n",
       "      <td>-1.0</td>\n",
       "      <td>0</td>\n",
       "      <td>NaN</td>\n",
       "      <td>0</td>\n",
       "      <td>NaN</td>\n",
       "      <td>NaN</td>\n",
       "      <td>NaN</td>\n",
       "      <td>NaN</td>\n",
       "      <td>NaN</td>\n",
       "    </tr>\n",
       "    <tr>\n",
       "      <th>1</th>\n",
       "      <td>1</td>\n",
       "      <td>10140.0</td>\n",
       "      <td>Albuquerque, NM: Albuquerque International Sun...</td>\n",
       "      <td>ABQ</td>\n",
       "      <td>2</td>\n",
       "      <td>AS</td>\n",
       "      <td>Alaska</td>\n",
       "      <td>237277</td>\n",
       "      <td>2018</td>\n",
       "      <td>1</td>\n",
       "      <td>...</td>\n",
       "      <td>0.0</td>\n",
       "      <td>-1.0</td>\n",
       "      <td>0</td>\n",
       "      <td>NaN</td>\n",
       "      <td>0</td>\n",
       "      <td>NaN</td>\n",
       "      <td>NaN</td>\n",
       "      <td>NaN</td>\n",
       "      <td>NaN</td>\n",
       "      <td>NaN</td>\n",
       "    </tr>\n",
       "    <tr>\n",
       "      <th>2</th>\n",
       "      <td>2</td>\n",
       "      <td>10140.0</td>\n",
       "      <td>Albuquerque, NM: Albuquerque International Sun...</td>\n",
       "      <td>ABQ</td>\n",
       "      <td>2</td>\n",
       "      <td>AS</td>\n",
       "      <td>Alaska</td>\n",
       "      <td>237781</td>\n",
       "      <td>2018</td>\n",
       "      <td>1</td>\n",
       "      <td>...</td>\n",
       "      <td>0.0</td>\n",
       "      <td>0.0</td>\n",
       "      <td>0</td>\n",
       "      <td>NaN</td>\n",
       "      <td>0</td>\n",
       "      <td>NaN</td>\n",
       "      <td>NaN</td>\n",
       "      <td>NaN</td>\n",
       "      <td>NaN</td>\n",
       "      <td>NaN</td>\n",
       "    </tr>\n",
       "    <tr>\n",
       "      <th>3</th>\n",
       "      <td>3</td>\n",
       "      <td>10140.0</td>\n",
       "      <td>Albuquerque, NM: Albuquerque International Sun...</td>\n",
       "      <td>ABQ</td>\n",
       "      <td>2</td>\n",
       "      <td>AS</td>\n",
       "      <td>Alaska</td>\n",
       "      <td>759132</td>\n",
       "      <td>2018</td>\n",
       "      <td>3</td>\n",
       "      <td>...</td>\n",
       "      <td>0.0</td>\n",
       "      <td>0.0</td>\n",
       "      <td>0</td>\n",
       "      <td>NaN</td>\n",
       "      <td>0</td>\n",
       "      <td>NaN</td>\n",
       "      <td>NaN</td>\n",
       "      <td>NaN</td>\n",
       "      <td>NaN</td>\n",
       "      <td>NaN</td>\n",
       "    </tr>\n",
       "    <tr>\n",
       "      <th>4</th>\n",
       "      <td>4</td>\n",
       "      <td>10140.0</td>\n",
       "      <td>Albuquerque, NM: Albuquerque International Sun...</td>\n",
       "      <td>ABQ</td>\n",
       "      <td>2</td>\n",
       "      <td>AS</td>\n",
       "      <td>Alaska</td>\n",
       "      <td>759644</td>\n",
       "      <td>2018</td>\n",
       "      <td>3</td>\n",
       "      <td>...</td>\n",
       "      <td>0.0</td>\n",
       "      <td>0.0</td>\n",
       "      <td>0</td>\n",
       "      <td>NaN</td>\n",
       "      <td>0</td>\n",
       "      <td>NaN</td>\n",
       "      <td>NaN</td>\n",
       "      <td>NaN</td>\n",
       "      <td>NaN</td>\n",
       "      <td>NaN</td>\n",
       "    </tr>\n",
       "  </tbody>\n",
       "</table>\n",
       "<p>5 rows × 29 columns</p>\n",
       "</div>"
      ],
      "text/plain": [
       "   Unnamed: 0  ORIGIN_AIRPORT_ID  \\\n",
       "0           0            10140.0   \n",
       "1           1            10140.0   \n",
       "2           2            10140.0   \n",
       "3           3            10140.0   \n",
       "4           4            10140.0   \n",
       "\n",
       "                                         Description Code.y  Unnamed: 0_x  \\\n",
       "0  Albuquerque, NM: Albuquerque International Sun...    ABQ             2   \n",
       "1  Albuquerque, NM: Albuquerque International Sun...    ABQ             2   \n",
       "2  Albuquerque, NM: Albuquerque International Sun...    ABQ             2   \n",
       "3  Albuquerque, NM: Albuquerque International Sun...    ABQ             2   \n",
       "4  Albuquerque, NM: Albuquerque International Sun...    ABQ             2   \n",
       "\n",
       "  OP_UNIQUE_CARRIER airline_name  Unnamed: 0_y  YEAR  MONTH  ... ARR_DEL15  \\\n",
       "0                AS       Alaska        236754  2018      1  ...       0.0   \n",
       "1                AS       Alaska        237277  2018      1  ...       0.0   \n",
       "2                AS       Alaska        237781  2018      1  ...       0.0   \n",
       "3                AS       Alaska        759132  2018      3  ...       0.0   \n",
       "4                AS       Alaska        759644  2018      3  ...       0.0   \n",
       "\n",
       "   ARR_DELAY_GROUP  CANCELLED  CANCELLATION_CODE  DIVERTED  CARRIER_DELAY  \\\n",
       "0             -1.0          0                NaN         0            NaN   \n",
       "1             -1.0          0                NaN         0            NaN   \n",
       "2              0.0          0                NaN         0            NaN   \n",
       "3              0.0          0                NaN         0            NaN   \n",
       "4              0.0          0                NaN         0            NaN   \n",
       "\n",
       "   WEATHER_DELAY  NAS_DELAY  SECURITY_DELAY  LATE_AIRCRAFT_DELAY  \n",
       "0            NaN        NaN             NaN                  NaN  \n",
       "1            NaN        NaN             NaN                  NaN  \n",
       "2            NaN        NaN             NaN                  NaN  \n",
       "3            NaN        NaN             NaN                  NaN  \n",
       "4            NaN        NaN             NaN                  NaN  \n",
       "\n",
       "[5 rows x 29 columns]"
      ]
     },
     "execution_count": 37,
     "metadata": {},
     "output_type": "execute_result"
    }
   ],
   "source": [
    "df.head()"
   ]
  },
  {
   "cell_type": "code",
   "execution_count": 38,
   "metadata": {},
   "outputs": [
    {
     "data": {
      "text/plain": [
       "OP_UNIQUE_CARRIER       object\n",
       "airline_name            object\n",
       "YEAR                     int64\n",
       "MONTH                    int64\n",
       "DIVERTED                 int64\n",
       "CARRIER_DELAY          float64\n",
       "WEATHER_DELAY          float64\n",
       "NAS_DELAY              float64\n",
       "SECURITY_DELAY         float64\n",
       "LATE_AIRCRAFT_DELAY    float64\n",
       "dtype: object"
      ]
     },
     "execution_count": 38,
     "metadata": {},
     "output_type": "execute_result"
    }
   ],
   "source": [
    "# Reduce columns to pertinent information only\n",
    "df[['OP_UNIQUE_CARRIER', 'airline_name',\n",
    "       'YEAR', 'MONTH', 'DIVERTED', 'CARRIER_DELAY',\n",
    "       'WEATHER_DELAY', 'NAS_DELAY', 'SECURITY_DELAY', 'LATE_AIRCRAFT_DELAY']]\n",
    "df = df[['OP_UNIQUE_CARRIER', 'airline_name',\n",
    "       'YEAR', 'MONTH', 'DIVERTED', 'CARRIER_DELAY',\n",
    "       'WEATHER_DELAY', 'NAS_DELAY', 'SECURITY_DELAY', 'LATE_AIRCRAFT_DELAY']]\n",
    "df.dtypes\n",
    "\n"
   ]
  },
  {
   "cell_type": "code",
   "execution_count": 39,
   "metadata": {},
   "outputs": [],
   "source": [
    "# Reduce to only the three following airlines - Alaska, Frontier and Spirit\n",
    "# condition1 = df['airline_name'] == ('Alaska', 'Frontier', 'Spirit')\n",
    "condition1 = df ['airline_name'].isin(['Alaska', 'Frontier', 'Spirit'])\n",
    "filtered_df = df[condition1]\n",
    "\n",
    "df = filtered_df"
   ]
  },
  {
   "cell_type": "code",
   "execution_count": 40,
   "metadata": {},
   "outputs": [
    {
     "data": {
      "text/plain": [
       "array(['Alaska', 'Frontier', 'Spirit'], dtype=object)"
      ]
     },
     "execution_count": 40,
     "metadata": {},
     "output_type": "execute_result"
    }
   ],
   "source": [
    "df['airline_name'].unique()"
   ]
  },
  {
   "cell_type": "code",
   "execution_count": 41,
   "metadata": {},
   "outputs": [
    {
     "data": {
      "text/html": [
       "<div>\n",
       "<style scoped>\n",
       "    .dataframe tbody tr th:only-of-type {\n",
       "        vertical-align: middle;\n",
       "    }\n",
       "\n",
       "    .dataframe tbody tr th {\n",
       "        vertical-align: top;\n",
       "    }\n",
       "\n",
       "    .dataframe thead th {\n",
       "        text-align: right;\n",
       "    }\n",
       "</style>\n",
       "<table border=\"1\" class=\"dataframe\">\n",
       "  <thead>\n",
       "    <tr style=\"text-align: right;\">\n",
       "      <th></th>\n",
       "      <th>OP_UNIQUE_CARRIER</th>\n",
       "      <th>airline_name</th>\n",
       "      <th>YEAR</th>\n",
       "      <th>MONTH</th>\n",
       "      <th>DIVERTED</th>\n",
       "      <th>CARRIER_DELAY</th>\n",
       "      <th>WEATHER_DELAY</th>\n",
       "      <th>NAS_DELAY</th>\n",
       "      <th>SECURITY_DELAY</th>\n",
       "      <th>LATE_AIRCRAFT_DELAY</th>\n",
       "    </tr>\n",
       "  </thead>\n",
       "  <tbody>\n",
       "    <tr>\n",
       "      <th>0</th>\n",
       "      <td>AS</td>\n",
       "      <td>Alaska</td>\n",
       "      <td>2018</td>\n",
       "      <td>1</td>\n",
       "      <td>0</td>\n",
       "      <td>NaN</td>\n",
       "      <td>NaN</td>\n",
       "      <td>NaN</td>\n",
       "      <td>NaN</td>\n",
       "      <td>NaN</td>\n",
       "    </tr>\n",
       "    <tr>\n",
       "      <th>1</th>\n",
       "      <td>AS</td>\n",
       "      <td>Alaska</td>\n",
       "      <td>2018</td>\n",
       "      <td>1</td>\n",
       "      <td>0</td>\n",
       "      <td>NaN</td>\n",
       "      <td>NaN</td>\n",
       "      <td>NaN</td>\n",
       "      <td>NaN</td>\n",
       "      <td>NaN</td>\n",
       "    </tr>\n",
       "    <tr>\n",
       "      <th>2</th>\n",
       "      <td>AS</td>\n",
       "      <td>Alaska</td>\n",
       "      <td>2018</td>\n",
       "      <td>1</td>\n",
       "      <td>0</td>\n",
       "      <td>NaN</td>\n",
       "      <td>NaN</td>\n",
       "      <td>NaN</td>\n",
       "      <td>NaN</td>\n",
       "      <td>NaN</td>\n",
       "    </tr>\n",
       "    <tr>\n",
       "      <th>3</th>\n",
       "      <td>AS</td>\n",
       "      <td>Alaska</td>\n",
       "      <td>2018</td>\n",
       "      <td>3</td>\n",
       "      <td>0</td>\n",
       "      <td>NaN</td>\n",
       "      <td>NaN</td>\n",
       "      <td>NaN</td>\n",
       "      <td>NaN</td>\n",
       "      <td>NaN</td>\n",
       "    </tr>\n",
       "    <tr>\n",
       "      <th>4</th>\n",
       "      <td>AS</td>\n",
       "      <td>Alaska</td>\n",
       "      <td>2018</td>\n",
       "      <td>3</td>\n",
       "      <td>0</td>\n",
       "      <td>NaN</td>\n",
       "      <td>NaN</td>\n",
       "      <td>NaN</td>\n",
       "      <td>NaN</td>\n",
       "      <td>NaN</td>\n",
       "    </tr>\n",
       "    <tr>\n",
       "      <th>...</th>\n",
       "      <td>...</td>\n",
       "      <td>...</td>\n",
       "      <td>...</td>\n",
       "      <td>...</td>\n",
       "      <td>...</td>\n",
       "      <td>...</td>\n",
       "      <td>...</td>\n",
       "      <td>...</td>\n",
       "      <td>...</td>\n",
       "      <td>...</td>\n",
       "    </tr>\n",
       "    <tr>\n",
       "      <th>995</th>\n",
       "      <td>AS</td>\n",
       "      <td>Alaska</td>\n",
       "      <td>2020</td>\n",
       "      <td>6</td>\n",
       "      <td>0</td>\n",
       "      <td>NaN</td>\n",
       "      <td>NaN</td>\n",
       "      <td>NaN</td>\n",
       "      <td>NaN</td>\n",
       "      <td>NaN</td>\n",
       "    </tr>\n",
       "    <tr>\n",
       "      <th>996</th>\n",
       "      <td>AS</td>\n",
       "      <td>Alaska</td>\n",
       "      <td>2020</td>\n",
       "      <td>6</td>\n",
       "      <td>0</td>\n",
       "      <td>0.0</td>\n",
       "      <td>0.0</td>\n",
       "      <td>68.0</td>\n",
       "      <td>0.0</td>\n",
       "      <td>0.0</td>\n",
       "    </tr>\n",
       "    <tr>\n",
       "      <th>997</th>\n",
       "      <td>AS</td>\n",
       "      <td>Alaska</td>\n",
       "      <td>2020</td>\n",
       "      <td>6</td>\n",
       "      <td>0</td>\n",
       "      <td>NaN</td>\n",
       "      <td>NaN</td>\n",
       "      <td>NaN</td>\n",
       "      <td>NaN</td>\n",
       "      <td>NaN</td>\n",
       "    </tr>\n",
       "    <tr>\n",
       "      <th>998</th>\n",
       "      <td>AS</td>\n",
       "      <td>Alaska</td>\n",
       "      <td>2020</td>\n",
       "      <td>6</td>\n",
       "      <td>0</td>\n",
       "      <td>NaN</td>\n",
       "      <td>NaN</td>\n",
       "      <td>NaN</td>\n",
       "      <td>NaN</td>\n",
       "      <td>NaN</td>\n",
       "    </tr>\n",
       "    <tr>\n",
       "      <th>999</th>\n",
       "      <td>AS</td>\n",
       "      <td>Alaska</td>\n",
       "      <td>2020</td>\n",
       "      <td>6</td>\n",
       "      <td>0</td>\n",
       "      <td>NaN</td>\n",
       "      <td>NaN</td>\n",
       "      <td>NaN</td>\n",
       "      <td>NaN</td>\n",
       "      <td>NaN</td>\n",
       "    </tr>\n",
       "  </tbody>\n",
       "</table>\n",
       "<p>1000 rows × 10 columns</p>\n",
       "</div>"
      ],
      "text/plain": [
       "    OP_UNIQUE_CARRIER airline_name  YEAR  MONTH  DIVERTED  CARRIER_DELAY  \\\n",
       "0                  AS       Alaska  2018      1         0            NaN   \n",
       "1                  AS       Alaska  2018      1         0            NaN   \n",
       "2                  AS       Alaska  2018      1         0            NaN   \n",
       "3                  AS       Alaska  2018      3         0            NaN   \n",
       "4                  AS       Alaska  2018      3         0            NaN   \n",
       "..                ...          ...   ...    ...       ...            ...   \n",
       "995                AS       Alaska  2020      6         0            NaN   \n",
       "996                AS       Alaska  2020      6         0            0.0   \n",
       "997                AS       Alaska  2020      6         0            NaN   \n",
       "998                AS       Alaska  2020      6         0            NaN   \n",
       "999                AS       Alaska  2020      6         0            NaN   \n",
       "\n",
       "     WEATHER_DELAY  NAS_DELAY  SECURITY_DELAY  LATE_AIRCRAFT_DELAY  \n",
       "0              NaN        NaN             NaN                  NaN  \n",
       "1              NaN        NaN             NaN                  NaN  \n",
       "2              NaN        NaN             NaN                  NaN  \n",
       "3              NaN        NaN             NaN                  NaN  \n",
       "4              NaN        NaN             NaN                  NaN  \n",
       "..             ...        ...             ...                  ...  \n",
       "995            NaN        NaN             NaN                  NaN  \n",
       "996            0.0       68.0             0.0                  0.0  \n",
       "997            NaN        NaN             NaN                  NaN  \n",
       "998            NaN        NaN             NaN                  NaN  \n",
       "999            NaN        NaN             NaN                  NaN  \n",
       "\n",
       "[1000 rows x 10 columns]"
      ]
     },
     "execution_count": 41,
     "metadata": {},
     "output_type": "execute_result"
    }
   ],
   "source": [
    "pd.to_datetime(df['YEAR'])\n",
    "pd.to_datetime(df['MONTH'])\n",
    "\n",
    "df\n"
   ]
  },
  {
   "cell_type": "code",
   "execution_count": 59,
   "metadata": {},
   "outputs": [
    {
     "data": {
      "text/plain": [
       "Alaska      864283\n",
       "Spirit      740596\n",
       "Frontier    507545\n",
       "Name: airline_name, dtype: int64"
      ]
     },
     "execution_count": 59,
     "metadata": {},
     "output_type": "execute_result"
    }
   ],
   "source": [
    "df[df['CARRIER_DELAY']!=0.0]['airline_name'].value_counts() \\\n",
    ".head(10) \\\n",
    "# .plot(kind='bar')"
   ]
  },
  {
   "cell_type": "code",
   "execution_count": 65,
   "metadata": {},
   "outputs": [
    {
     "data": {
      "text/plain": [
       "Alaska      812777\n",
       "Spirit      682340\n",
       "Frontier    438062\n",
       "Name: airline_name, dtype: int64"
      ]
     },
     "execution_count": 65,
     "metadata": {},
     "output_type": "execute_result"
    }
   ],
   "source": [
    "df[df['WEATHER_DELAY']!=0.0]['airline_name'].value_counts() \\\n",
    ".head() \\\n",
    "# .plot(kind='bar')"
   ]
  },
  {
   "cell_type": "code",
   "execution_count": 66,
   "metadata": {},
   "outputs": [
    {
     "data": {
      "text/plain": [
       "Alaska      915213\n",
       "Spirit      790779\n",
       "Frontier    510941\n",
       "Name: airline_name, dtype: int64"
      ]
     },
     "execution_count": 66,
     "metadata": {},
     "output_type": "execute_result"
    }
   ],
   "source": [
    "# Delays or cancellations coded \"NAS\" are the type of weather delays that could be reduced with corrective \n",
    "# action by the airports or the Federal Aviation Administration. NAS_DELAY\n",
    "\n",
    "df[df['NAS_DELAY']!=0.0]['airline_name'].value_counts() \\\n",
    ".head(10) \\\n",
    "# .plot(kind='bar')"
   ]
  },
  {
   "cell_type": "code",
   "execution_count": 67,
   "metadata": {},
   "outputs": [
    {
     "data": {
      "text/plain": [
       "Alaska      809775\n",
       "Spirit      676922\n",
       "Frontier    434116\n",
       "Name: airline_name, dtype: int64"
      ]
     },
     "execution_count": 67,
     "metadata": {},
     "output_type": "execute_result"
    }
   ],
   "source": [
    "df[df['SECURITY_DELAY']!=0.0]['airline_name'].value_counts() \\\n",
    ".head(10) \\\n",
    "# .plot(kind='bar')\n"
   ]
  },
  {
   "cell_type": "code",
   "execution_count": 69,
   "metadata": {},
   "outputs": [
    {
     "data": {
      "text/plain": [
       "Alaska      860993\n",
       "Spirit      719671\n",
       "Frontier    500572\n",
       "Name: airline_name, dtype: int64"
      ]
     },
     "execution_count": 69,
     "metadata": {},
     "output_type": "execute_result"
    }
   ],
   "source": [
    "df[df['LATE_AIRCRAFT_DELAY']!=0.0]['airline_name'].value_counts() \\\n",
    ".head(10) \\\n",
    "# .plot(kind='bar')"
   ]
  },
  {
   "cell_type": "code",
   "execution_count": 89,
   "metadata": {},
   "outputs": [
    {
     "data": {
      "image/png": "[encoded data removed]",
      "text/plain": [
       "<Figure size 640x480 with 1 Axes>"
      ]
     },
     "metadata": {},
     "output_type": "display_data"
    }
   ],
   "source": [
    "# Alaska\n",
    "x_values = ['CARRIER_DELAY', 'WEATHER_DELAY', 'NAS_DELAY', 'SECURITY_DELAY', 'LATE_AIRCRAFT_DELAY']\n",
    "y_values = [864283, 812777, 915213, 809775, 860993]\n",
    "\n",
    "# Plot the values\n",
    "plt.bar(x_values, y_values,)\n",
    "plt.xticks(rotation = 'vertical')\n",
    "\n",
    "# Add labels and title\n",
    "plt.xlabel('Type of Delay')\n",
    "plt.ylabel('Value Count')\n",
    "plt.title('Alaska Airlines Causes for Delays')\n",
    "\n",
    "# Display the plot\n",
    "plt.show()"
   ]
  },
  {
   "cell_type": "code",
   "execution_count": 81,
   "metadata": {},
   "outputs": [
    {
     "name": "stderr",
     "output_type": "stream",
     "text": [
      "C:\\Users\\e_pen\\AppData\\Local\\Temp\\ipykernel_2288\\442825687.py:12: MatplotlibDeprecationWarning: The get_cmap function was deprecated in Matplotlib 3.7 and will be removed two minor releases later. Use ``matplotlib.colormaps[name]`` or ``matplotlib.colormaps.get_cmap(obj)`` instead.\n",
      "  colormap = plt.cm.get_cmap('cool')\n"
     ]
    },
    {
     "data": {
      "image/png": "[encoded data removed]",
      "text/plain": [
       "<Figure size 640x480 with 1 Axes>"
      ]
     },
     "metadata": {},
     "output_type": "display_data"
    }
   ],
   "source": [
    "# Spirit\n",
    "x_values = ['CARRIER_DELAY', 'WEATHER_DELAY', 'NAS_DELAY', 'SECURITY_DELAY', 'LATE_AIRCRAFT_DELAY']\n",
    "y_values = [740596, 682340, 790779, 676922, 719671]\n",
    "\n",
    "# Plot the values\n",
    "plt.bar(x_values, y_values)\n",
    "plt.xticks(rotation = 'vertical')\n",
    "\n",
    "n, bins, patches = plt.hist(x_values)\n",
    "\n",
    "# Choose a colormap\n",
    "colormap = plt.cm.get_cmap('cool')\n",
    "\n",
    "# Set gradient colors to the patches\n",
    "bin_centers = 0.5 * (bins[:-1] + bins[1:])\n",
    "for patch, color in zip(patches, colormap(bin_centers)):\n",
    "    patch.set_facecolor(color)\n",
    "\n",
    "# Add labels and title\n",
    "plt.xlabel('Type of Delay')\n",
    "plt.ylabel('Value Count')\n",
    "plt.title('Spirit Airlines Causes for Delays')\n",
    "\n",
    "# Display the plot\n",
    "plt.show()"
   ]
  },
  {
   "cell_type": "code",
   "execution_count": 87,
   "metadata": {},
   "outputs": [
    {
     "data": {
      "image/png": "[encoded data removed]",
      "text/plain": [
       "<Figure size 640x480 with 1 Axes>"
      ]
     },
     "metadata": {},
     "output_type": "display_data"
    }
   ],
   "source": [
    "# Frontier\n",
    "\n",
    "x_values = ['CARRIER_DELAY', 'WEATHER_DELAY', 'NAS_DELAY', 'SECURITY_DELAY', 'LATE_AIRCRAFT_DELAY']\n",
    "y_values = [507545, 438062, 510941, 434116, 500572]\n",
    "\n",
    "# Plot the values\n",
    "plt.bar(x_values, y_values)\n",
    "plt.xticks(rotation = 'vertical')\n",
    "\n",
    "\n",
    "# Add labels and title\n",
    "plt.xlabel('Type of Delay')\n",
    "plt.ylabel('Value Count')\n",
    "plt.title('Frontier Airlines Causes for Delays')\n",
    "\n",
    "# Display the plot\n",
    "plt.show()"
   ]
  }
 ],
 "metadata": {
  "kernelspec": {
   "display_name": "base",
   "language": "python",
   "name": "python3"
  },
  "language_info": {
   "codemirror_mode": {
    "name": "ipython",
    "version": 3
   },
   "file_extension": ".py",
   "mimetype": "text/x-python",
   "name": "python",
   "nbconvert_exporter": "python",
   "pygments_lexer": "ipython3",
   "version": "3.10.9"
  },
  "orig_nbformat": 4
 },
 "nbformat": 4,
 "nbformat_minor": 2
}
